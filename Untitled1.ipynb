{
 "cells": [
  {
   "cell_type": "code",
   "execution_count": null,
   "id": "dd429bf0-e69d-4428-8c1e-a062e8e2c439",
   "metadata": {},
   "outputs": [],
   "source": [
    "dddddddd"
   ]
  },
  {
   "cell_type": "code",
   "execution_count": null,
   "id": "e8f72ec6-cba1-4ca7-8c6f-136343e13821",
   "metadata": {},
   "outputs": [],
   "source": [
    "dddd sd"
   ]
  }
 ],
 "metadata": {
  "kernelspec": {
   "display_name": "Python 3 (ipykernel)",
   "language": "python",
   "name": "python3"
  },
  "language_info": {
   "codemirror_mode": {
    "name": "ipython",
    "version": 3
   },
   "file_extension": ".py",
   "mimetype": "text/x-python",
   "name": "python",
   "nbconvert_exporter": "python",
   "pygments_lexer": "ipython3",
   "version": "3.12.1"
  }
 },
 "nbformat": 4,
 "nbformat_minor": 5
}
