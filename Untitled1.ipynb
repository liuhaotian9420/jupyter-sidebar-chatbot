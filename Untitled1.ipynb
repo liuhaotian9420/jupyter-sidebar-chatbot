{
 "cells": [
  {
   "cell_type": "code",
   "execution_count": 2,
   "id": "dd429bf0-e69d-4428-8c1e-a062e8e2c439",
   "metadata": {},
   "outputs": [
    {
     "ename": "SyntaxError",
     "evalue": "unterminated string literal (detected at line 4) (1858795382.py, line 4)",
     "output_type": "error",
     "traceback": [
      "  \u001b[36mCell\u001b[39m\u001b[36m \u001b[39m\u001b[32mIn[2]\u001b[39m\u001b[32m, line 4\u001b[39m\n\u001b[31m    \u001b[39m\u001b[31mHere's a simple list:\u001b[39m\n        ^\n\u001b[31mSyntaxError\u001b[39m\u001b[31m:\u001b[39m unterminated string literal (detected at line 4)\n"
     ]
    }
   ],
   "source": [
    "dddddddd this is some code we are dealing with \n",
    "# Main Header\n",
    "## Subdsaheader@\n",
    "Here's a simple list:\n",
    "- First item@@@@@@@d item with **bold*@@@@@@@@* text#\n",
    "- Third item with *italic* text@@@@@"
   ]
  },
  {
   "cell_type": "code",
   "execution_count": null,
   "id": "e8f72ec6-cba1-4ca7-8c6f-136343e13821",
   "metadata": {},
   "outputs": [],
   "source": [
    "dddd sdsdsa@@@@asdas"
   ]
  },
  {
   "cell_type": "code",
   "execution_count": null,
   "id": "0779315a-9d84-4288-bdb9-914ad51f32a5",
   "metadata": {},
   "outputs": [],
   "source": [
    "# Main Header\n",
    "## Subheader\n",
    "Here's a simple list:\n",
    "- First item\n",
    "- Second item with **bold** text\n",
    "- Third item with *italic* text"
   ]
  },
  {
   "cell_type": "code",
   "execution_count": null,
   "id": "28985096-083a-4b3c-b349-84ed3a7372ed",
   "metadata": {},
   "outputs": [],
   "source": []
  }
 ],
 "metadata": {
  "kernelspec": {
   "display_name": "Python 3 (ipykernel)",
   "language": "python",
   "name": "python3"
  },
  "language_info": {
   "codemirror_mode": {
    "name": "ipython",
    "version": 3
   },
   "file_extension": ".py",
   "mimetype": "text/x-python",
   "name": "python",
   "nbconvert_exporter": "python",
   "pygments_lexer": "ipython3",
   "version": "3.12.1"
  }
 },
 "nbformat": 4,
 "nbformat_minor": 5
}
