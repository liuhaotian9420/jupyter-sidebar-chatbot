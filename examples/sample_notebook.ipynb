{
 "cells": [
  {
   "cell_type": "markdown",
   "metadata": {},
   "source": [
    "# Sample Notebook\n",
    "\n",
    "This is a demonstration notebook for LLM extensions with Jupyter Kernel Gateway integration."
   ]
  },
  {
   "cell_type": "code",
   "execution_count": 1,
   "metadata": {},
   "outputs": [
    {
     "name": "stdout",
     "output_type": "stream",
     "text": [
      "2\n"
     ]
    }
   ],
   "source": [
    "print(1+1)"
   ]
  },
  {
   "cell_type": "code",
   "execution_count": null,
   "metadata": {},
   "outputs": [],
   "source": [
    "import numpy as np\n",
    "import pandas as pd\n",
    "import matplotlib.pyplot as plt\n",
    "\n",
    "# Enable inline plotting\n",
    "plt.style.use(\"ggplot\")\n",
    "\n",
    "# Create sample data\n",
    "np.random.seed(42)\n",
    "df = pd.DataFrame(np.random.randn(10, 3), columns=[\"A\", \"B\", \"C\"])\n",
    "\n",
    "df.head()"
   ]
  },
  {
   "cell_type": "markdown",
   "metadata": {},
   "source": [
    "## Data Analysis"
   ]
  },
  {
   "cell_type": "code",
   "execution_count": null,
   "metadata": {},
   "outputs": [],
   "source": [
    "# Basic statistics\n",
    "df.describe()"
   ]
  },
  {
   "cell_type": "code",
   "execution_count": null,
   "metadata": {},
   "outputs": [],
   "source": [
    "# Visualization\n",
    "plt.figure(figsize=(10, 6))\n",
    "for column in df.columns:\n",
    "    plt.hist(df[column], alpha=0.5, label=column)\n",
    "plt.legend()\n",
    "plt.title(\"Distribution of Values\")\n",
    "plt.xlabel(\"Value\")\n",
    "plt.ylabel(\"Frequency\")\n",
    "plt.show()"
   ]
  },
  {
   "cell_type": "markdown",
   "metadata": {},
   "source": [
    "## HTTP Endpoints for Kernel Gateway\n",
    "\n",
    "The following cells demonstrate HTTP endpoints that can be exposed via Jupyter Kernel Gateway."
   ]
  },
  {
   "cell_type": "code",
   "execution_count": null,
   "metadata": {},
   "outputs": [],
   "source": [
    "# GET /api/data\n",
    "import json\n",
    "\n",
    "# Access to the previously created dataframe\n",
    "response = {\n",
    "    \"data\": df.to_dict(orient=\"records\"),\n",
    "    \"shape\": df.shape\n",
    "}\n",
    "\n",
    "print(json.dumps(response))"
   ]
  },
  {
   "cell_type": "code",
   "execution_count": null,
   "metadata": {},
   "outputs": [],
   "source": [
    "# GET /api/stats\n",
    "import json\n",
    "\n",
    "# Generate descriptive statistics\n",
    "stats = df.describe().to_dict()\n",
    "\n",
    "print(json.dumps(stats))"
   ]
  },
  {
   "cell_type": "code",
   "execution_count": null,
   "metadata": {},
   "outputs": [],
   "source": [
    "# POST /api/query\n",
    "import json\n",
    "import pandas as pd\n",
    "\n",
    "# Get the request data\n",
    "req = json.loads(REQUEST)\n",
    "body = req.get('body', '{}')\n",
    "\n",
    "if isinstance(body, str):\n",
    "    body = json.loads(body)\n",
    "\n",
    "# Extract column and operation from request\n",
    "column = body.get('column', 'A')\n",
    "operation = body.get('operation', 'mean')\n",
    "\n",
    "# Validate column\n",
    "if column not in df.columns:\n",
    "    result = {\"error\": f\"Column {column} not found\"} \n",
    "else:\n",
    "    # Perform requested operation\n",
    "    if operation == 'mean':\n",
    "        value = df[column].mean()\n",
    "    elif operation == 'sum':\n",
    "        value = df[column].sum()\n",
    "    elif operation == 'max':\n",
    "        value = df[column].max()\n",
    "    elif operation == 'min':\n",
    "        value = df[column].min()\n",
    "    else:\n",
    "        value = None\n",
    "        result = {\"error\": f\"Operation {operation} not supported\"} \n",
    "    \n",
    "    if value is not None:\n",
    "        result = {\n",
    "            \"column\": column,\n",
    "            \"operation\": operation,\n",
    "            \"result\": float(value)\n",
    "        }\n",
    "\n",
    "print(json.dumps(result))"
   ]
  },
  {
   "cell_type": "markdown",
   "metadata": {},
   "source": [
    "## Running with Jupyter Kernel Gateway\n",
    "\n",
    "To run this notebook with Jupyter Kernel Gateway in HTTP mode, use:\n",
    "\n",
    "```bash\n",
    "jupyter kernelgateway --KernelGatewayApp.api=kernel_gateway.notebook_http --KernelGatewayApp.seed_uri=examples/sample_notebook.ipynb --port=10100\n",
    "```\n",
    "\n",
    "Then access the endpoints via HTTP:\n",
    "\n",
    "```bash\n",
    "# Get data\n",
    "curl http://127.0.0.1:10100/api/data\n",
    "\n",
    "# Get statistics\n",
    "curl http://127.0.0.1:10100/api/stats\n",
    "\n",
    "# Query specific column operations\n",
    "curl -X POST -H \"Content-Type: application/json\" -d '{\"column\":\"A\",\"operation\":\"mean\"}' http://127.0.0.1:10100/api/query\n",
    "```"
   ]
  }
 ],
 "metadata": {
  "kernelspec": {
   "display_name": "Python 3 (ipykernel)",
   "language": "python",
   "name": "python3"
  },
  "language_info": {
   "codemirror_mode": {
    "name": "ipython",
    "version": 3
   },
   "file_extension": ".py",
   "mimetype": "text/x-python",
   "name": "python",
   "nbconvert_exporter": "python",
   "pygments_lexer": "ipython3",
   "version": "3.12.1"
  }
 },
 "nbformat": 4,
 "nbformat_minor": 4
}
